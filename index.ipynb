{
 "cells": [
  {
   "cell_type": "markdown",
   "metadata": {},
   "source": [
    "# French Connection SQL WARMUP "
   ]
  },
  {
   "cell_type": "markdown",
   "metadata": {},
   "source": [
    "Remember how to connect to an sqlite database?\n",
    "\n",
    "We need to create a connection and a cursor.  "
   ]
  },
  {
   "cell_type": "code",
   "execution_count": 14,
   "metadata": {},
   "outputs": [],
   "source": [
    "import sqlite3\n",
    "\n",
    "#connect to the db 'parlgov-development' in the data folder\n",
    "\n",
    "conn = None\n",
    "cursor = None"
   ]
  },
  {
   "cell_type": "code",
   "execution_count": 16,
   "metadata": {},
   "outputs": [],
   "source": [
    "#__SOLUTION__\n",
    "#connect to the db 'parlgov-development' in the data folder\n",
    "import sqlite3\n",
    "\n",
    "conn = sqlite3.connect('data/parlgov-development.sqlite')\n",
    "cursor = conn.cursor()"
   ]
  },
  {
   "cell_type": "code",
   "execution_count": 18,
   "metadata": {},
   "outputs": [
    {
     "data": {
      "text/plain": [
       "[('info_data_source',),\n",
       " ('external_party_castles_mair',),\n",
       " ('external_party_chess',),\n",
       " ('external_party_huber_inglehart',),\n",
       " ('info_table',),\n",
       " ('external_party_euprofiler',),\n",
       " ('party_family',),\n",
       " ('info_id',),\n",
       " ('sqlite_stat1',),\n",
       " ('external_party_benoit_laver',),\n",
       " ('external_country_iso',),\n",
       " ('viewcalc_party_position',),\n",
       " ('viewcalc_election_parameter',),\n",
       " ('viewcalc_parliament_composition',),\n",
       " ('viewcalc_country_year_share',),\n",
       " ('info_variable',),\n",
       " ('party_name_change',),\n",
       " ('election',),\n",
       " ('election_result',),\n",
       " ('cabinet_party',),\n",
       " ('country',),\n",
       " ('party',),\n",
       " ('party_change',),\n",
       " ('external_party_cmp',),\n",
       " ('external_party_ees',),\n",
       " ('politician_president',),\n",
       " ('external_party_ray',),\n",
       " ('external_commissioner_doering',),\n",
       " ('cabinet',)]"
      ]
     },
     "execution_count": 18,
     "metadata": {},
     "output_type": "execute_result"
    }
   ],
   "source": [
    "# Inspect the tables in the database\n",
    "cursor.execute('''SELECT name\n",
    "               FROM sqlite_master WHERE type=\"table\"''')\n",
    "cursor.fetchall()"
   ]
  },
  {
   "cell_type": "markdown",
   "metadata": {},
   "source": [
    "### We will make some queries of the view_election table"
   ]
  },
  {
   "cell_type": "code",
   "execution_count": 19,
   "metadata": {},
   "outputs": [
    {
     "data": {
      "text/plain": [
       "[('AUS',\n",
       "  'Australia',\n",
       "  'parliament',\n",
       "  '1901-03-30',\n",
       "  44.4,\n",
       "  32,\n",
       "  75,\n",
       "  'PP',\n",
       "  'Protectionist Party',\n",
       "  'Protectionist Party',\n",
       "  7.4,\n",
       "  33,\n",
       "  731,\n",
       "  None,\n",
       "  None,\n",
       "  1898)]"
      ]
     },
     "execution_count": 19,
     "metadata": {},
     "output_type": "execute_result"
    }
   ],
   "source": [
    "# This query helps us familiarize ourselves to the table\n",
    "cursor.execute('''SELECT * \n",
    "                      FROM view_election \n",
    "                  LIMIT 1\n",
    "                ''')\n",
    "cursor.fetchall()"
   ]
  },
  {
   "cell_type": "markdown",
   "metadata": {},
   "source": [
    "After running the cell above, our cursor has a description attribute. We can use this attribute to inspect the column names in the view_election table."
   ]
  },
  {
   "cell_type": "code",
   "execution_count": 5,
   "metadata": {},
   "outputs": [
    {
     "data": {
      "text/plain": [
       "(('country_name_short', None, None, None, None, None, None),\n",
       " ('country_name', None, None, None, None, None, None),\n",
       " ('election_type', None, None, None, None, None, None),\n",
       " ('election_date', None, None, None, None, None, None),\n",
       " ('vote_share', None, None, None, None, None, None),\n",
       " ('seats', None, None, None, None, None, None),\n",
       " ('seats_total', None, None, None, None, None, None),\n",
       " ('party_name_short', None, None, None, None, None, None),\n",
       " ('party_name', None, None, None, None, None, None),\n",
       " ('party_name_english', None, None, None, None, None, None),\n",
       " ('left_right', None, None, None, None, None, None),\n",
       " ('country_id', None, None, None, None, None, None),\n",
       " ('election_id', None, None, None, None, None, None),\n",
       " ('previous_parliament_election_id', None, None, None, None, None, None),\n",
       " ('previous_cabinet_id', None, None, None, None, None, None),\n",
       " ('party_id', None, None, None, None, None, None))"
      ]
     },
     "execution_count": 5,
     "metadata": {},
     "output_type": "execute_result"
    }
   ],
   "source": [
    "cursor.description"
   ]
  },
  {
   "cell_type": "markdown",
   "metadata": {},
   "source": [
    "# Query 1: \n",
    "Run a query that shows us all the unique country names (the short version)."
   ]
  },
  {
   "cell_type": "code",
   "execution_count": 6,
   "metadata": {},
   "outputs": [
    {
     "data": {
      "text/plain": [
       "[('AUS',),\n",
       " ('AUT',),\n",
       " ('BEL',),\n",
       " ('BGR',),\n",
       " ('CAN',),\n",
       " ('CHE',),\n",
       " ('CYP',),\n",
       " ('CZE',),\n",
       " ('DEU',),\n",
       " ('DNK',),\n",
       " ('ESP',),\n",
       " ('EST',),\n",
       " ('FIN',),\n",
       " ('FRA',),\n",
       " ('GBR',),\n",
       " ('GRC',),\n",
       " ('HRV',),\n",
       " ('HUN',),\n",
       " ('IRL',),\n",
       " ('ISL',),\n",
       " ('ISR',),\n",
       " ('ITA',),\n",
       " ('JPN',),\n",
       " ('LTU',),\n",
       " ('LUX',),\n",
       " ('LVA',),\n",
       " ('MLT',),\n",
       " ('NLD',),\n",
       " ('NOR',),\n",
       " ('NZL',),\n",
       " ('POL',),\n",
       " ('PRT',),\n",
       " ('ROU',),\n",
       " ('SVK',),\n",
       " ('SVN',),\n",
       " ('SWE',),\n",
       " ('TUR',)]"
      ]
     },
     "execution_count": 6,
     "metadata": {},
     "output_type": "execute_result"
    }
   ],
   "source": [
    "#__SOLUTION__\n",
    "cursor.execute('''SELECT DISTINCT country_name_short \n",
    "                    FROM view_election \n",
    "                ''')\n",
    "cursor.fetchall()"
   ]
  },
  {
   "cell_type": "markdown",
   "metadata": {},
   "source": [
    "# Query 2: \n",
    "\n",
    "Using the short name for France seen above, count how many elections occured in France during the 1990's.\n",
    "\n",
    "HINT: [built-in-aggregates](https://www.sqlite.org/lang_aggfunc.html)  \n",
    "HINT: Use full string of date: Ex: \"2021-28-21\""
   ]
  },
  {
   "cell_type": "code",
   "execution_count": 7,
   "metadata": {},
   "outputs": [
    {
     "data": {
      "text/plain": [
       "[(48,)]"
      ]
     },
     "execution_count": 7,
     "metadata": {},
     "output_type": "execute_result"
    }
   ],
   "source": [
    "#__SOLUTION__\n",
    "query = '''SELECT COUNT(*) FROM view_election\n",
    "            WHERE country_name_short = \"FRA\"\n",
    "            AND election_date >= \"1990-01-01\"\n",
    "            AND election_date < \"2000-01-01\"\n",
    "'''\n",
    "\n",
    "cursor.execute(query)\n",
    "cursor.fetchall()"
   ]
  },
  {
   "cell_type": "markdown",
   "metadata": {},
   "source": [
    "# Query 3: \n",
    "\n",
    "What was the average vote share per party in the UK during the 2000's.\n",
    "Order by average votes descending.\n",
    "Hint: Use GROUP BY operator (group by needs an aggregate)"
   ]
  },
  {
   "cell_type": "code",
   "execution_count": 8,
   "metadata": {},
   "outputs": [
    {
     "data": {
      "text/plain": [
       "[('Conservatives', 29.625),\n",
       " ('Labour Party', 28.55),\n",
       " ('Liberals', 17.225),\n",
       " ('United Kingdom Independence Party', 9.1),\n",
       " ('British National Party', 5.550000000000001),\n",
       " ('Green Party', 5.233333333333333),\n",
       " ('English Democrats', 1.8),\n",
       " ('Scottish National Party – Pàrtaidh Nàiseanta na h-Alba',\n",
       "  1.7000000000000002),\n",
       " ('The Christian Party – Christian Peoples Alliance in England', 1.6),\n",
       " ('Socialist Labour Party', 1.1),\n",
       " ('NO2EU – Yes to Democracy', 1.01),\n",
       " ('Respect – The Unity Coalition', 0.89),\n",
       " ('Democratic Unionist Party', 0.7975),\n",
       " ('Plaid Cymru', 0.7749999999999999),\n",
       " ('Sinn Féin', 0.7375),\n",
       " ('Ulster Unionist Party', 0.5925),\n",
       " ('Social Democratic and Labour Party', 0.55),\n",
       " ('others', None)]"
      ]
     },
     "execution_count": 8,
     "metadata": {},
     "output_type": "execute_result"
    }
   ],
   "source": [
    "#__SOLUTION__\n",
    "query = '''SELECT party_name, AVG(vote_share) as avg_vote_share FROM view_election\n",
    "            WHERE country_name_short = \"GBR\"\n",
    "            AND election_date >= \"2000-01-01\" \n",
    "            AND election_date < \"2010-01-01\" \n",
    "            GROUP BY party_name\n",
    "            ORDER BY avg_vote_share DESC\n",
    "\n",
    "'''\n",
    "\n",
    "cursor.execute(query)\n",
    "cursor.fetchall()"
   ]
  },
  {
   "cell_type": "markdown",
   "metadata": {},
   "source": [
    "# Query 4\n",
    "\n",
    "Produce a list of all French presidents in the database.  Order by their start dates. \n",
    "HINT: Query the politician_president table.  This table has a country_id associated with the politician.  Join the country table to the politician_president table, and filter by `name_short` which matches the short name of france you used above. "
   ]
  },
  {
   "cell_type": "code",
   "execution_count": 86,
   "metadata": {},
   "outputs": [
    {
     "data": {
      "text/plain": [
       "[('Armand Fallières',),\n",
       " ('Raymond Poincaré',),\n",
       " ('Paul Deschanel',),\n",
       " ('Alexandre Millerand',),\n",
       " ('Gaston Doumergue',),\n",
       " ('Paul Doumer',),\n",
       " ('Albert Lebrun',),\n",
       " ('Philippe Pétain',),\n",
       " ('Vincent Auriol',),\n",
       " ('René Coty',),\n",
       " ('Charles de Gaulle',),\n",
       " ('Georges Pompidou',),\n",
       " (\"Valéry Giscard d'Estaing\",),\n",
       " ('François Mitterrand',),\n",
       " ('Jacques Chirac',),\n",
       " ('Nicolas Sarkozy',),\n",
       " ('François Hollande',),\n",
       " ('',)]"
      ]
     },
     "execution_count": 86,
     "metadata": {},
     "output_type": "execute_result"
    }
   ],
   "source": [
    "#__SOLUTION__\n",
    "query = '''SELECT DISTINCT p.person_id_source\n",
    "            FROM politician_president p \n",
    "            JOIN country c\n",
    "            ON p.country_id = c.id\n",
    "            WHERE c.name_short='FRA'\n",
    "            ORDER BY p.start_date\n",
    "\n",
    "'''\n",
    "\n",
    "cursor.execute(query)\n",
    "cursor.fetchall()"
   ]
  },
  {
   "cell_type": "markdown",
   "metadata": {},
   "source": [
    "# DON'T FORGET TO CLOSE THE DB CONNECTION WHEN YOU'RE DONE QUERYING!!!!!"
   ]
  },
  {
   "cell_type": "code",
   "execution_count": 87,
   "metadata": {},
   "outputs": [],
   "source": [
    "#your code to close the connection here\n",
    "conn.close()"
   ]
  },
  {
   "cell_type": "code",
   "execution_count": null,
   "metadata": {},
   "outputs": [],
   "source": []
  }
 ],
 "metadata": {
  "kernelspec": {
   "display_name": "Python 3",
   "language": "python",
   "name": "python3"
  },
  "language_info": {
   "codemirror_mode": {
    "name": "ipython",
    "version": 3
   },
   "file_extension": ".py",
   "mimetype": "text/x-python",
   "name": "python",
   "nbconvert_exporter": "python",
   "pygments_lexer": "ipython3",
   "version": "3.8.5"
  }
 },
 "nbformat": 4,
 "nbformat_minor": 4
}
